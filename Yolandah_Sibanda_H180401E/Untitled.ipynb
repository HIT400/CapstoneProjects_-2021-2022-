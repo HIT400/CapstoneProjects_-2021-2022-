{
 "cells": [
  {
   "cell_type": "code",
   "execution_count": 1,
   "id": "4e5cdd00-2a42-40b7-8087-92b23cd82551",
   "metadata": {},
   "outputs": [],
   "source": [
    "from newsapi import NewsApiClient\n"
   ]
  },
  {
   "cell_type": "code",
   "execution_count": 2,
   "id": "0c7149ba-6dd4-4a83-a8ed-9108a1be1957",
   "metadata": {},
   "outputs": [],
   "source": [
    "newsapi = NewsApiClient(api_key='78a7515000574deea08d7797f8fb117b')"
   ]
  },
  {
   "cell_type": "code",
   "execution_count": 18,
   "id": "04b26de2-52ac-47a7-b0e3-b11cb96dd179",
   "metadata": {},
   "outputs": [
    {
     "data": {
      "text/plain": [
       "[{'source': {'id': None, 'name': 'FRANCE 24 English'},\n",
       "  'author': 'NEWS WIRES',\n",
       "  'title': \"Covid death toll rises in China as authorities warn of 'grim' situation\",\n",
       "  'description': 'Shanghai reported 39 Covid deaths Sunday, its highest daily toll despite weeks of lockdowns, while China\\'s capital Beijing warned of a \"grim\" situation with rising infections.',\n",
       "  'url': 'https://www.france24.com/en/asia-pacific/20220424-covid-death-toll-rises-in-china-as-authorities-warn-of-grim-situation',\n",
       "  'urlToImage': 'https://s.france24.com/media/display/12287564-c1aa-11ec-9ce3-005056bfb2b6/w:1280/p:16x9/2022-04-20T110155Z_84921058_RC2UQT9PSRYX_RTRMADP_3_HEALTH-CORONAVIRUS-CHINA.JPG',\n",
       "  'publishedAt': '2022-04-24T08:21:56Z',\n",
       "  'content': 'Shanghai reported 39 Covid deaths Sunday, its highest daily toll despite weeks of lockdowns, while China\\'s capital Beijing warned of a \"grim\" situation with rising infections.\\xa0 The world\\'s second-lar… [+3022 chars]'},\n",
       " {'source': {'id': None, 'name': 'Scripting.com'},\n",
       "  'author': None,\n",
       "  'title': None,\n",
       "  'description': \"I needed a podcast feed to test with so I used the NYT Daily podcast. My god they have shows going back to 2017. I think that's when the podcast actually started. That's a lot of podcasts. Remarkable.\",\n",
       "  'url': 'http://xmlviewer.scripting.com/?url=http://rss.art19.com/the-daily',\n",
       "  'urlToImage': None,\n",
       "  'publishedAt': '2022-04-06T13:36:32Z',\n",
       "  'content': 'http://rss.art19.com/the-daily\\r\\n&lt;?xml version=\"1.0\" encoding=\"UTF-8\"?&gt;\\r\\n&lt;rss version=\"2.0\" xmlns:atom=\"http://www.w3.org/2005/Atom\" xmlns:content=\"http://purl.org/rss/1.0/modules/content/\" x… [+7600320 chars]'}]"
      ]
     },
     "execution_count": 18,
     "metadata": {},
     "output_type": "execute_result"
    }
   ],
   "source": [
    "news = 'Covid death toll rises in China as authorities warn of \"grim\" situation'\n",
    "top_headlines = newsapi.get_everything(q=news, language='en')\n",
    "top_headlines['articles']"
   ]
  },
  {
   "cell_type": "code",
   "execution_count": null,
   "id": "044ff8f1-eac7-4697-9245-11eabf275702",
   "metadata": {},
   "outputs": [],
   "source": [
    "\n",
    "\n",
    "\n"
   ]
  },
  {
   "cell_type": "code",
   "execution_count": null,
   "id": "b5900182-8794-477e-916a-c9538d15639e",
   "metadata": {},
   "outputs": [],
   "source": []
  }
 ],
 "metadata": {
  "kernelspec": {
   "display_name": "Python 3 (ipykernel)",
   "language": "python",
   "name": "python3"
  },
  "language_info": {
   "codemirror_mode": {
    "name": "ipython",
    "version": 3
   },
   "file_extension": ".py",
   "mimetype": "text/x-python",
   "name": "python",
   "nbconvert_exporter": "python",
   "pygments_lexer": "ipython3",
   "version": "3.9.7"
  }
 },
 "nbformat": 4,
 "nbformat_minor": 5
}
